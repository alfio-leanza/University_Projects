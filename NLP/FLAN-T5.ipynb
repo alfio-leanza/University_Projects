{
 "cells": [
  {
   "cell_type": "markdown",
   "metadata": {
    "id": "t8v5PRpVW3yY"
   },
   "source": [
    "# Install and import"
   ]
  },
  {
   "cell_type": "code",
   "execution_count": null,
   "metadata": {
    "colab": {
     "base_uri": "https://localhost:8080/"
    },
    "executionInfo": {
     "elapsed": 30592,
     "status": "ok",
     "timestamp": 1751898883799,
     "user": {
      "displayName": "cert miuo",
      "userId": "16522998226340099072"
     },
     "user_tz": -120
    },
    "id": "5-CgIk78Fw4o",
    "outputId": "6276ff4b-6610-4034-a86e-2768f43898b4"
   },
   "outputs": [
    {
     "name": "stdout",
     "output_type": "stream",
     "text": [
      "Mounted at /content/drive\n"
     ]
    }
   ],
   "source": [
    "from google.colab import drive\n",
    "drive.mount('/content/drive')"
   ]
  },
  {
   "cell_type": "code",
   "execution_count": null,
   "metadata": {
    "id": "x0sfB9hkF3UV"
   },
   "outputs": [],
   "source": [
    "!pip install -U \"transformers>=4.41\" bitsandbytes sentencepiece \\\n",
    "                 accelerate datasets evaluate sentence-transformers bert-score rouge_score"
   ]
  },
  {
   "cell_type": "code",
   "execution_count": null,
   "metadata": {
    "id": "q9hFCIy3WvhS"
   },
   "outputs": [],
   "source": [
    "import random, textwrap, torch, evaluate\n",
    "from tqdm.auto import tqdm\n",
    "from datasets import Dataset\n",
    "from sentence_transformers import SentenceTransformer, util\n",
    "from transformers import AutoTokenizer, AutoModelForSeq2SeqLM"
   ]
  },
  {
   "cell_type": "markdown",
   "metadata": {
    "id": "fPdFUK4EW7WO"
   },
   "source": [
    "# Flan-T5-base"
   ]
  },
  {
   "cell_type": "code",
   "execution_count": null,
   "metadata": {
    "colab": {
     "base_uri": "https://localhost:8080/",
     "height": 1000,
     "referenced_widgets": [
      "e978b675f3e84550ba22a053be14bb76",
      "e8507cc8860b457180c911bb7c8d349a",
      "318886ba3c014b4ba9851c1d6b6bc72f",
      "3479bcaa0459494ab955a300501d1c73",
      "ca404431099b459baaf85487fd76c75e",
      "374c250088be450788eba035b7eefe17",
      "46f3ed6f0d3d45fe8677618a3fd10843",
      "7f405198221b406a9b635b3ea5b9b49e",
      "740284bc31d24b4596807596c492de6f",
      "395c132dbc7c4e058e34a36d28244d07",
      "62a6ce60930f40fc90f98bac5e21bfee",
      "f60700697fe44f1c80803b1e16ba43ba",
      "96b9e993709a4cfabdad37974e450a1f",
      "acc7c9f36b374d87a6cab113246439d3",
      "417a185528444accbdc8c4e71c1f3b56",
      "b10a9f981c2043678c9933417f0ff0b3",
      "373a8369e343441eb219b8a22f250298",
      "6526cda75c7f4e5baf450423b190f3bb",
      "17c7c3758269498da22296a35f72b4ee",
      "60975990f1374be798c232e862a0b509",
      "247659be4e7447519dfee7ebdd2bf7e4",
      "a740af007fa346bca3eebba6bce6b91a",
      "7d2182dd690449a585176f0579693b76",
      "f86cc0b1878f46e59df966c9c2719b37",
      "8aa30dfad03f49ae953888ae9fc72529",
      "aad69a7dd1ac4bd18b4f6f695e5862ba",
      "2cc33e6001694e9094cd7cf99dc13cef",
      "c24f4c756f104393967866db9a28ed4c",
      "99bf25efc44e47178685eba42a2d5745",
      "224cc654945c44fdb54f8692cea46587",
      "7d5ce8a169ac4406b5137a67cf7250ea",
      "a53c24392e1649ca84a0866fc07e250f",
      "b8b444273ffd4fa282b9438f42a966f0",
      "c6a1dab3dc2040b6a4d7fe2529d996fb",
      "32bf9d1832454707abc054252949a53f",
      "5c80e2ccf0d540949e505065f041eb6f",
      "9bf7e7e993994611a9d31457706e61e2",
      "77fc01e4858b4437bb60a9bb72332753",
      "aa8ef0e9f6c44676abe592aba3a21b88",
      "6a2a2b623e6741958c76dea25d4eb766",
      "3a6579fcb8254a8d8c3f6f98a4ffd8c7",
      "69f5914f809844f789d806e0ceafa1de",
      "efca961a535b46ad8a079780548ea782",
      "0c3a32bba66445399b1c2c74db35f930",
      "b2e2a6f3076f4636831e92ede1fdbe26",
      "15b987a14af840879702243f45fb6012",
      "b2d7efa904024ab4b09a969314e7b99c",
      "27bd495eae5f497b9fe58fe852fce2e3",
      "f0fcfcbb2153414993c95bf99f61dc91",
      "22ffad44137f4f0a96a8089b7f596ffe",
      "1613b9daf2bb4254938e5f3f60fbd0ec",
      "108313de074f4118921d9baa0746f99c",
      "d0345420db98407188e02f4dfcf4727a",
      "feddcf74dff448eb84af9a30257dd8c5",
      "a45fd247238045bba07556c359aaeb7f",
      "8d186c54d48244edaa83b495d7625028",
      "4dcdd49396eb45e2a95c769b2670aad4",
      "a2e9adb3bd3645a09af956fc36329f56",
      "56a088c429c940a1ab66050e12b7a80e",
      "b31f19ee504e43f5b61a1f92f3ff3fc0",
      "e2512b44510c4b4fb9b64f5f2da2d5a8",
      "815cd10b2ed04a9592d3879afbc4584a",
      "59904b0281e64ec0ad3550cda33d6c9a",
      "8a4fdc64258a4187b754e74f067558ab",
      "34095e00636b4d5bb6e34dc24933a4a3",
      "fc4969f2996a49b4970ab0db624a0524",
      "2db49f44e8a2404e91f6c64acc687c53",
      "ed5043a204a441fcb6bb677909341d8c",
      "46ce46f470654995b30c643f6b2933ef",
      "42a055d2b345499486ef8140c2a52511",
      "22269aa8154b4254bf8e9ca96dd0eb2d",
      "e6f866b9b81543758917f51b790b4cb8",
      "81e7e51024f948f2b90aaf54c02493b5",
      "2ca869c3ab1848a3a4a9949b6ceeeabf",
      "8274312b255a43f18e64ac8b5e973a9c",
      "9188c76d8375456680fb2548e5b7ebe7",
      "eee529d8403e43b1b34de32b19c0f364",
      "ab066b9e1d8946e3824e41905a982f13",
      "e8d8f31c3aeb49a59aeccef19a387e2d",
      "d1413b4736654de5986a8d3d77223043",
      "c281d868a0c14942b3907f4b75e4d305",
      "dd42d8e489cc48e699875542159de412",
      "ac9cf22c3799400cb3307cf871109a12",
      "d4e00ec00b034e81a08929b7839a89ab",
      "db25d580a40e482d856989b3c7158b66",
      "79502004e66e4abf99e3b44bbc0797e2",
      "4c4c8a1965af4b308ea209c0518f3edc",
      "3f9ae48ffe8a4262ac8621f3eaef6704",
      "83d38d32ba4a4fd3a4c5f109aed43470",
      "dd29ca0523d748f8a3a2339b38f8f668",
      "853ab6931e7a44b38b827ffec3f24fa3",
      "de09a606ac4f469685eca95b06470369",
      "0c8a021163954156af980d2e410525d3",
      "c88f8f53d7524ce8930371b3f460ae6e",
      "ac1dc4b9425b4be2871eb0a283d8998a",
      "02c990b14a1d4b278380d1cae811ccd7",
      "0c2ea7cef1824263a43d4493d9bdd74c",
      "c853352b23954ae3b8b54cafacad5774",
      "0de50ebf461d4bdea1d1f8bf552c3495",
      "99bdb08f08c34ff9ad6d69c06b294069",
      "b094cb7646a745fca790e3d9eb637b46",
      "82629adf116c4d0294046b8ef022bf90",
      "abe8c55cad0f403ab296505767fa1082",
      "01f54d589bfa4b8bafdcc0cbb0b34f1b",
      "8921e23c8dda46b09ee7fe32e941cf4c",
      "982985049531473d8a3cc78eb0d6720a",
      "b004c62ce9024780885212ee32b358eb",
      "aa619a3b0e374d80a20b27a04f4e1a48",
      "a65a64e6d7304e26b682e130173b19bc",
      "b9558ff9d6934558b3e373008f10f147",
      "1c45cfc4cc9a4db59db3087cbf7a4d9e",
      "8646840be3344a8a9badab6acc58cd3b",
      "501e95d31f334ab692c7e2eb559aedaf",
      "87c76ac7200d4239b848e450342c8cdc",
      "55f6f4488bff4d5f8f496b151b5dd363",
      "528e60610fd64e968bebe3bf31a8369f",
      "bbf8576ccb0a42a4913ea422a27ed7a6",
      "1257302ffd704d22b389412f2d2daed2",
      "eda5d22a9ee443a8bd7e0c4eb2717f0c",
      "9fa92ab095464c1da7aa07fbc1cf00ef",
      "8b8f59d917fc4070861ca270fb4b1fff",
      "5c4433ef5a794c2eb80b9747d798e39b",
      "1fff5aa85a5446bc868a728a5d87a635",
      "94029658cd6d483fbc679e0cc497dcde",
      "4f623beea93348bfb57b9ef955972cef",
      "df6365d8d9af45c5aae6608a3046b413",
      "ecfc348754a94a9bbd9099cc2aabe0fd",
      "0559601fd31948679b4ea295dee8c3ec",
      "b3e855b373854252ad573296d6e10f95",
      "112ee2a9d9f448d390c076dc07c578ee",
      "faf867a9029b429d92bf45ce3dbe70c2",
      "27cc723ec86d41d982a509d28aa78a9e",
      "23387710cdf04666a6d3eff54918f4a1",
      "8a659573dcac483f9c5d5f3d33d8c7c8",
      "d0e655df91a542ceae827e3168791b85",
      "7c56e882700c46a58b19cb7b9c9e1f0d",
      "47ad94c69c8841e895cc29c3eba3543d",
      "607a94c19054482e92a25bedf2e111af",
      "3c09d04d1ea34a16aa6bc87c871bc2c0",
      "173c0f32c4ca4ad4af01d8fe7f37195b",
      "ec1c9af8bd7e495cb88ce6fa25d5938a",
      "5b913a3bc4214f5cb9d0d4fbfb2128ed",
      "772a155cee664c3b95ee68e99a20c5d1",
      "021d5124cf034a5faec5484f231122a3",
      "4ae277494ff643d09e5771ec175e88b5",
      "68dd3873bf984b5fb664a2fcd1ba1a23",
      "25cfc6d80b0a419598d140a99a774d03",
      "23a4ab650541415db99df9eca6b209cd",
      "091eddab0ecc4099baa70336838c2354",
      "33023d9d6fce4d35af389905ee60294d",
      "0b94e4940c224870881e7474770cca34",
      "33858d2cf1c2412b96043b5634fa134a",
      "79d87959b8824108925fa6c3a0ccd055",
      "034e83e7270749519535c4fac97b0386",
      "ef362170ced94202aa6f29e06343da03",
      "d35d89f2f4f24dda8f69742f5d763864",
      "84d61f934eb04e738428f5a03d65dbea",
      "41824264f5b54c57ab9c875f84b5c31c",
      "e6f1bbd38195417da29f50e9ec2d0bfa",
      "4f0f418db3534dceb4d542bad64df460",
      "64c1483108a04f18affff4b1f39bf170",
      "997b7259227c48819190defe5d12f487",
      "2dc8d61c9dbf421d9b9369eb9c32437b",
      "170078bb81964c77bccc270a2115beba",
      "8fa8e8e9a0d24271a2e096c69aaaf8ab",
      "5222bf15870a463bb2960141ab587f54",
      "d7b00d05b3d8438abc5fe7f95d48aeb9",
      "066333891af34cf3bf2ad9173381a3f9",
      "af90e0d27a5d463b8fe48c5dfee2973b",
      "42e339b7036e47f8b38c3264fc497616",
      "bd126aad63f84df5ba91cf18397f7aa3",
      "9ff8d4441b9743d583c990da62389a06",
      "742da582f6c14cab883291265628bbb8",
      "2c6c9942f2bc47108e77f4af1c6c03d5",
      "33737e630317422fb20ea8a88d625125",
      "a5593294865742fc9998b25959a0fbf6",
      "cb360aa7ec8f4e88a192ef49b296ca5a",
      "3b86a459e43c4524944955fa1695c669",
      "00914ab159d94e68b948cdf91c233873",
      "422776b7134d464a9ac2a1c9c994d8ec",
      "ab32dc03aafb4db6b1339574e43d3972",
      "72e611ddcd7d4f14bd6e9ea5256514a1",
      "b91e382ea1cd4bb2ad41be7408fe4db7",
      "b55f366ce37b48319493240e2f203ecd",
      "b343d1b6704c4621a72bfd8f44e5b09c",
      "e1f31b657caa486899549632534c2a82",
      "9f6cf67d3b74400aa264cc76e30b335e",
      "7abf09d4ee5946588e817455ea07371e",
      "ad0c3fcefcba48939d87e4bc5288ab6f",
      "d32ca068762d46dc998cafbeb441e59a",
      "dd50947309b54b0e9198ea311dcf7ba5",
      "40c8bd3219ae49189fa0d64a443619fa",
      "c22f7d8bb5b445b1be9730433f380fa1",
      "8bec3358efeb44e6816e508d854491e2",
      "a1ad66f0b72d44c69da160a79c42c2a3",
      "6fe7e59952a34835af5ebd11e6fe8a66",
      "e7497ccd96ad4ce597012419b9bf18f4",
      "3b690c89f4594056930d9e1c1923bf6c",
      "2d37c5f3a0ab47e99a1e5e220ca54ef5",
      "be0e4690d3674487b13077831ed11a83",
      "8babbac79ec64f99a1c99e5f1bb5e0d2",
      "ecbcc9d298f644cfa981bb02189c5198",
      "227448f6844147a3a10d51df8223d551",
      "e6e7f8827985499cb4045e23199d9683",
      "4832ee8cb1374837b151f037d7a45ea6",
      "3e7ea655c22640f391bf7d42f7fbf585",
      "116ac3ee2e4f49288abefcd1f1b8dbe7",
      "7b89eaa4ba944f75b4dcbc31e7c94c73",
      "ebb39e860efc466a9b8c3fbec739b90d",
      "55f9883858064575844dea755d706157",
      "2721b5eedf0a477cb7b2a1882b02df8a",
      "673fabc219aa4d3d8a33c7581dfe4556",
      "351b5f46e5b347a1b4e5031243dfb188",
      "62aebfa477ce4a98801db387c543e0e1",
      "1ebf00a07a4b4e2f9d009cd6211c0260",
      "2dfee74f6e944d19afa8a0cf1f4ad1f9",
      "0aec562c6f6742cb90d120fc648e5ef2",
      "223c5fa1d60647b5b3b5ed92d307b4f7",
      "7958ac43761044b7a22b7ca37f0f379d",
      "658437e017f541858c5787179a2e8bba",
      "a337a1c9c64a46ad8e205c31ded0fbaa",
      "d4f858e3eb9444a1a562e31e3a3f7f2f",
      "42a0dc07b1bb4ccb9fb5452fd2d4193c",
      "0098d4f5e02e4f448ae97a5cb53fe90c",
      "bcf9ea69f9b64da4b841b8c0d3225550",
      "9cf52b9a0ab4468dbc9d5697aaef32d0",
      "e5bf24837f4b4beabbd8fc36cf2d757c",
      "5ceafb11c93d4a56bb92ddfd28fc459e",
      "d1055f0c59fc483fad20baac64748912",
      "5a554eca4d164ab49bff84c0dfad47bb",
      "d615f772b1c34b10aaa00adf7c6c26ab",
      "1d69d81ca93e4576aa815dd67ac0d6dd",
      "d87837ff3f5f419b875734704699e9e8",
      "df576f4e1c17477cbbcd6c425c96622c",
      "70800d0f4cbf4b0b8b46a65b313bff1f",
      "8e8bdb7e530446f9a2d95bb884e386cb",
      "6f4d1b9a95da4a3d8990caa53ddcfa1a",
      "c2eb46162c9347cdae3d13fc72cee06e",
      "cf9678c04e894029b88039bfd03f1c69",
      "4ce721b1cfc54a51bbea56ae6fc4bbf8",
      "e384b833edc1431dac50bc8c4902694d",
      "24ce272c7f544501a2d764de4e7cdad4",
      "3a7e8a2c723a4a46bed812545f5bb4a6",
      "a4cdc396e4df4e3c9c79ecc457f4e8b2",
      "dc0f3d019ca542109ceea8757b2cc6bd",
      "142c7620894747f6beb2c7eb484bde8d",
      "4ab172bf360b4e6583b49b0bfb053b70",
      "03c6213d4bcc47a5bdafe750b8f44234",
      "a4d490e14de84c2db06a11fc757f3fff",
      "961b12993a6f4919acf6deebb34192a8",
      "d1735db94f674207928a10b26b1fb8bd",
      "c73c2eabfd034719b113702f2c506b5a",
      "1de457dd707b46b9a2cc310b3c082ead",
      "45d2b81c831c4510801e17d0ee2f6385",
      "c15600e97255467b80b0b8e3cfe1ee31",
      "209ccf9e0dc642c2bd5c21644f4f7051",
      "c32bb3ec704c489d91370a7d0fb01276",
      "9adfd800f9984955b52e47d6c2c7e50a",
      "8a3a2a33f50b4e1a8367620dc6f5af3c",
      "cc9e14aeaf494d48a316f76f585804ef",
      "e4ac2e8332494af0891e455e1fb17c65",
      "ee3b414f843844888d2e570a96faaeea",
      "bb924bea7977441ab4865586b25adb66",
      "73834b1c9f414941850abedd2d3df7ad",
      "aeff4111e6de481ab60cdd7fb5bf7cfc",
      "70ceb9ae3e18435fbffa43f5ab9a3291",
      "80950c6faff2431a8d65b525d4c19fab",
      "bef243440afd4cb6bb47cf5da6151011",
      "877846e06db041ab9909ca4aabab671c",
      "ebb9332975124630a4b31f71fbf73154",
      "e5b992bc98e1469babb5187cdb231823",
      "69ec5f89e9fe48b1a423cd67a87c0a10",
      "11135187b29a4222a1e3ee2f73f7a267",
      "8e15f3dce417416fb369831d1d6c4354",
      "d00a48ed5917433b8517dc08c50d241d",
      "e78b77d9f7a34b129ad5ad858fa45b8f",
      "6ffd8a0386454eb28cc6c5b87ce244f2",
      "ae7e53a9dcd445738ac7a9109c0f29ea",
      "9334470a1000459eb95f9bf3b1d509d5",
      "334d7d78bfc945f88d2b2dfc107252e2",
      "efe0dce898c140b281f85ecb0b597bcd",
      "be0e63d44f294ad8bb5938eecf356f7e",
      "cfa0f3e2aae6439abbac5b5a59bc8a38",
      "36014ac823a5404a88a69ea1689d0fe0",
      "cfbfee76a4344e99af292447b4716c34",
      "4149c7f4cee74e8eb6116db5c3da2f0e",
      "fe5567be76354feb9211021d0c3cb46f",
      "2bba934b1a1342ac9372148acb3ea473",
      "3ec185bcc48e4585aceb4a64770a9bc0",
      "b984c1fb59f941e1a60a3fc9f89cfdc9",
      "c470b784df294db68bdfb69b2d342231",
      "befa315f6742417aa44972e65b0e0d17",
      "48a8dba7b06d4e69871afffb51ae2a9f",
      "bfc6faceedf1468b91f3ff215236d455",
      "4a160b665d354cdeb2d88e698cac03d5",
      "92f3c18227634dc296cfce1c93b47d19",
      "0efca19298284a7493a769b229436dfb",
      "45516c86841341e79fd34acabca168cb",
      "8924ce6bc87f4293a25ec7108cf8769a",
      "7968ae553ce946d3aac0af2f6a82843d",
      "3c5f8a39ec92485786653ca8eea2a8cf",
      "580963fb305346229e2af373f2786941",
      "636e05332c434776b6ba57a7ed554add",
      "028903e9377c46609d4eb3b81cbfe4c2",
      "d8e548b04da546a28de623de41ef7c1b",
      "41c342b0b6b249c380e95e40a690701e",
      "a5b82bd7b87e4a2b9e8532e038fe5a2e",
      "4ab940ecef614b16820d4ac376ae1551",
      "8bc7038ea69e4478a9d1c6a33f853197",
      "4c9cd45cc6f84cd48698d41a8800c044",
      "57793f3badc1422f8223f819eada7de6",
      "0225f0bf012141d78a1941c6663db609",
      "77ea26d6b4664823affe2357f68da2f4",
      "2b3ad3e09afb42c197a1e787b70e38da",
      "ffb36b2a9bde4589b7a9dcd90f920492",
      "c8bcae9c9fc44cb09b6488424920fdbf",
      "41eecaa99cd3454dbc2644f40ce35908",
      "83db0b6d6533496eaf7267dce3790669",
      "6a929f51250649a79ab3b244434d01b9",
      "fd3bbeb6577b454aaa0794bc3efaaf33",
      "7cdc60b82513489b9f8989e6130db971",
      "0db21396e3ed4eac81f93a169f7fd29f",
      "cdf77ea238814deeab61522620e81245",
      "4139e941f3c847419c1919540719f13c",
      "a059da4803ae415e9a623302b1aa0c48",
      "57a37e2815414043be13f295e2c02820",
      "afbdb83b46e14dd0bc063a2c884d109e",
      "af62cbb4bf2f46ce86918892abeacc99",
      "45c04805c0f04ac6b50e16fabf5fb187",
      "4c39390ddc1b4952b83f38595a7e049e",
      "f2b65d83cee9423d8ae241cc7df575be",
      "a4a52b95444e4521afc577a32655b60a",
      "eed7c4dbab334a44b346487f76877f75",
      "160c0ac7a68b4ba1a11e34ef0d0426d1",
      "dc15706dbaa546e8a0b9d971d3f31dfe",
      "5995a3c33a564865a7f9972136ba9708",
      "03e18b63a6a94220a48f78704498eb63",
      "f32b8a9a24614e838dec0e18560eaefa",
      "3433fd2fcead4dfdac88f7ce68f508ec",
      "c65143dbb0b945d0994b54dbddbb2e17",
      "4ae8d8eb5bdb402b9fcfa4a548fd3123"
     ]
    },
    "executionInfo": {
     "elapsed": 3959355,
     "status": "ok",
     "timestamp": 1751902997794,
     "user": {
      "displayName": "cert miuo",
      "userId": "16522998226340099072"
     },
     "user_tz": -120
    },
    "id": "7k03qWgnF1Ts",
    "outputId": "d577bff5-9021-4268-89be-9ce461a9bc48"
   },
   "outputs": [
    {
     "data": {
      "application/vnd.jupyter.widget-view+json": {
       "model_id": "e978b675f3e84550ba22a053be14bb76",
       "version_major": 2,
       "version_minor": 0
      },
      "text/plain": [
       "Generating train split: 0 examples [00:00, ? examples/s]"
      ]
     },
     "metadata": {},
     "output_type": "display_data"
    },
    {
     "name": "stderr",
     "output_type": "stream",
     "text": [
      "/usr/local/lib/python3.11/dist-packages/huggingface_hub/utils/_auth.py:94: UserWarning: \n",
      "The secret `HF_TOKEN` does not exist in your Colab secrets.\n",
      "To authenticate with the Hugging Face Hub, create a token in your settings tab (https://huggingface.co/settings/tokens), set it as secret in your Google Colab and restart your session.\n",
      "You will be able to reuse this secret in all of your notebooks.\n",
      "Please note that authentication is recommended but still optional to access public models or datasets.\n",
      "  warnings.warn(\n"
     ]
    },
    {
     "data": {
      "application/vnd.jupyter.widget-view+json": {
       "model_id": "f60700697fe44f1c80803b1e16ba43ba",
       "version_major": 2,
       "version_minor": 0
      },
      "text/plain": [
       "modules.json:   0%|          | 0.00/349 [00:00<?, ?B/s]"
      ]
     },
     "metadata": {},
     "output_type": "display_data"
    },
    {
     "data": {
      "application/vnd.jupyter.widget-view+json": {
       "model_id": "7d2182dd690449a585176f0579693b76",
       "version_major": 2,
       "version_minor": 0
      },
      "text/plain": [
       "config_sentence_transformers.json:   0%|          | 0.00/116 [00:00<?, ?B/s]"
      ]
     },
     "metadata": {},
     "output_type": "display_data"
    },
    {
     "data": {
      "application/vnd.jupyter.widget-view+json": {
       "model_id": "c6a1dab3dc2040b6a4d7fe2529d996fb",
       "version_major": 2,
       "version_minor": 0
      },
      "text/plain": [
       "README.md: 0.00B [00:00, ?B/s]"
      ]
     },
     "metadata": {},
     "output_type": "display_data"
    },
    {
     "data": {
      "application/vnd.jupyter.widget-view+json": {
       "model_id": "b2e2a6f3076f4636831e92ede1fdbe26",
       "version_major": 2,
       "version_minor": 0
      },
      "text/plain": [
       "sentence_bert_config.json:   0%|          | 0.00/53.0 [00:00<?, ?B/s]"
      ]
     },
     "metadata": {},
     "output_type": "display_data"
    },
    {
     "data": {
      "application/vnd.jupyter.widget-view+json": {
       "model_id": "8d186c54d48244edaa83b495d7625028",
       "version_major": 2,
       "version_minor": 0
      },
      "text/plain": [
       "config.json:   0%|          | 0.00/612 [00:00<?, ?B/s]"
      ]
     },
     "metadata": {},
     "output_type": "display_data"
    },
    {
     "data": {
      "application/vnd.jupyter.widget-view+json": {
       "model_id": "2db49f44e8a2404e91f6c64acc687c53",
       "version_major": 2,
       "version_minor": 0
      },
      "text/plain": [
       "model.safetensors:   0%|          | 0.00/90.9M [00:00<?, ?B/s]"
      ]
     },
     "metadata": {},
     "output_type": "display_data"
    },
    {
     "data": {
      "application/vnd.jupyter.widget-view+json": {
       "model_id": "ab066b9e1d8946e3824e41905a982f13",
       "version_major": 2,
       "version_minor": 0
      },
      "text/plain": [
       "tokenizer_config.json:   0%|          | 0.00/350 [00:00<?, ?B/s]"
      ]
     },
     "metadata": {},
     "output_type": "display_data"
    },
    {
     "data": {
      "application/vnd.jupyter.widget-view+json": {
       "model_id": "83d38d32ba4a4fd3a4c5f109aed43470",
       "version_major": 2,
       "version_minor": 0
      },
      "text/plain": [
       "vocab.txt: 0.00B [00:00, ?B/s]"
      ]
     },
     "metadata": {},
     "output_type": "display_data"
    },
    {
     "data": {
      "application/vnd.jupyter.widget-view+json": {
       "model_id": "99bdb08f08c34ff9ad6d69c06b294069",
       "version_major": 2,
       "version_minor": 0
      },
      "text/plain": [
       "tokenizer.json: 0.00B [00:00, ?B/s]"
      ]
     },
     "metadata": {},
     "output_type": "display_data"
    },
    {
     "data": {
      "application/vnd.jupyter.widget-view+json": {
       "model_id": "1c45cfc4cc9a4db59db3087cbf7a4d9e",
       "version_major": 2,
       "version_minor": 0
      },
      "text/plain": [
       "special_tokens_map.json:   0%|          | 0.00/112 [00:00<?, ?B/s]"
      ]
     },
     "metadata": {},
     "output_type": "display_data"
    },
    {
     "data": {
      "application/vnd.jupyter.widget-view+json": {
       "model_id": "5c4433ef5a794c2eb80b9747d798e39b",
       "version_major": 2,
       "version_minor": 0
      },
      "text/plain": [
       "config.json:   0%|          | 0.00/190 [00:00<?, ?B/s]"
      ]
     },
     "metadata": {},
     "output_type": "display_data"
    },
    {
     "name": "stdout",
     "output_type": "stream",
     "text": [
      "⏳ Pre-computing few-shot cache …\n"
     ]
    },
    {
     "data": {
      "application/vnd.jupyter.widget-view+json": {
       "model_id": "23387710cdf04666a6d3eff54918f4a1",
       "version_major": 2,
       "version_minor": 0
      },
      "text/plain": [
       "  0%|          | 0/12662 [00:00<?, ?it/s]"
      ]
     },
     "metadata": {},
     "output_type": "display_data"
    },
    {
     "data": {
      "application/vnd.jupyter.widget-view+json": {
       "model_id": "021d5124cf034a5faec5484f231122a3",
       "version_major": 2,
       "version_minor": 0
      },
      "text/plain": [
       "tokenizer_config.json: 0.00B [00:00, ?B/s]"
      ]
     },
     "metadata": {},
     "output_type": "display_data"
    },
    {
     "data": {
      "application/vnd.jupyter.widget-view+json": {
       "model_id": "ef362170ced94202aa6f29e06343da03",
       "version_major": 2,
       "version_minor": 0
      },
      "text/plain": [
       "spiece.model:   0%|          | 0.00/792k [00:00<?, ?B/s]"
      ]
     },
     "metadata": {},
     "output_type": "display_data"
    },
    {
     "data": {
      "application/vnd.jupyter.widget-view+json": {
       "model_id": "5222bf15870a463bb2960141ab587f54",
       "version_major": 2,
       "version_minor": 0
      },
      "text/plain": [
       "tokenizer.json: 0.00B [00:00, ?B/s]"
      ]
     },
     "metadata": {},
     "output_type": "display_data"
    },
    {
     "data": {
      "application/vnd.jupyter.widget-view+json": {
       "model_id": "cb360aa7ec8f4e88a192ef49b296ca5a",
       "version_major": 2,
       "version_minor": 0
      },
      "text/plain": [
       "special_tokens_map.json: 0.00B [00:00, ?B/s]"
      ]
     },
     "metadata": {},
     "output_type": "display_data"
    },
    {
     "data": {
      "application/vnd.jupyter.widget-view+json": {
       "model_id": "7abf09d4ee5946588e817455ea07371e",
       "version_major": 2,
       "version_minor": 0
      },
      "text/plain": [
       "config.json: 0.00B [00:00, ?B/s]"
      ]
     },
     "metadata": {},
     "output_type": "display_data"
    },
    {
     "data": {
      "application/vnd.jupyter.widget-view+json": {
       "model_id": "2d37c5f3a0ab47e99a1e5e220ca54ef5",
       "version_major": 2,
       "version_minor": 0
      },
      "text/plain": [
       "model.safetensors:   0%|          | 0.00/990M [00:00<?, ?B/s]"
      ]
     },
     "metadata": {},
     "output_type": "display_data"
    },
    {
     "data": {
      "application/vnd.jupyter.widget-view+json": {
       "model_id": "55f9883858064575844dea755d706157",
       "version_major": 2,
       "version_minor": 0
      },
      "text/plain": [
       "generation_config.json:   0%|          | 0.00/147 [00:00<?, ?B/s]"
      ]
     },
     "metadata": {},
     "output_type": "display_data"
    },
    {
     "data": {
      "application/vnd.jupyter.widget-view+json": {
       "model_id": "a337a1c9c64a46ad8e205c31ded0fbaa",
       "version_major": 2,
       "version_minor": 0
      },
      "text/plain": [
       "Downloading builder script: 0.00B [00:00, ?B/s]"
      ]
     },
     "metadata": {},
     "output_type": "display_data"
    },
    {
     "data": {
      "application/vnd.jupyter.widget-view+json": {
       "model_id": "1d69d81ca93e4576aa815dd67ac0d6dd",
       "version_major": 2,
       "version_minor": 0
      },
      "text/plain": [
       "Downloading builder script: 0.00B [00:00, ?B/s]"
      ]
     },
     "metadata": {},
     "output_type": "display_data"
    },
    {
     "data": {
      "application/vnd.jupyter.widget-view+json": {
       "model_id": "3a7e8a2c723a4a46bed812545f5bb4a6",
       "version_major": 2,
       "version_minor": 0
      },
      "text/plain": [
       "Prompt=zero:   0%|          | 0/396 [00:00<?, ?it/s]"
      ]
     },
     "metadata": {},
     "output_type": "display_data"
    },
    {
     "data": {
      "application/vnd.jupyter.widget-view+json": {
       "model_id": "45d2b81c831c4510801e17d0ee2f6385",
       "version_major": 2,
       "version_minor": 0
      },
      "text/plain": [
       "tokenizer_config.json:   0%|          | 0.00/25.0 [00:00<?, ?B/s]"
      ]
     },
     "metadata": {},
     "output_type": "display_data"
    },
    {
     "data": {
      "application/vnd.jupyter.widget-view+json": {
       "model_id": "aeff4111e6de481ab60cdd7fb5bf7cfc",
       "version_major": 2,
       "version_minor": 0
      },
      "text/plain": [
       "config.json:   0%|          | 0.00/482 [00:00<?, ?B/s]"
      ]
     },
     "metadata": {},
     "output_type": "display_data"
    },
    {
     "data": {
      "application/vnd.jupyter.widget-view+json": {
       "model_id": "e78b77d9f7a34b129ad5ad858fa45b8f",
       "version_major": 2,
       "version_minor": 0
      },
      "text/plain": [
       "vocab.json:   0%|          | 0.00/899k [00:00<?, ?B/s]"
      ]
     },
     "metadata": {},
     "output_type": "display_data"
    },
    {
     "data": {
      "application/vnd.jupyter.widget-view+json": {
       "model_id": "fe5567be76354feb9211021d0c3cb46f",
       "version_major": 2,
       "version_minor": 0
      },
      "text/plain": [
       "merges.txt:   0%|          | 0.00/456k [00:00<?, ?B/s]"
      ]
     },
     "metadata": {},
     "output_type": "display_data"
    },
    {
     "data": {
      "application/vnd.jupyter.widget-view+json": {
       "model_id": "45516c86841341e79fd34acabca168cb",
       "version_major": 2,
       "version_minor": 0
      },
      "text/plain": [
       "tokenizer.json:   0%|          | 0.00/1.36M [00:00<?, ?B/s]"
      ]
     },
     "metadata": {},
     "output_type": "display_data"
    },
    {
     "data": {
      "application/vnd.jupyter.widget-view+json": {
       "model_id": "8bc7038ea69e4478a9d1c6a33f853197",
       "version_major": 2,
       "version_minor": 0
      },
      "text/plain": [
       "model.safetensors:   0%|          | 0.00/1.42G [00:00<?, ?B/s]"
      ]
     },
     "metadata": {},
     "output_type": "display_data"
    },
    {
     "name": "stderr",
     "output_type": "stream",
     "text": [
      "Some weights of RobertaModel were not initialized from the model checkpoint at roberta-large and are newly initialized: ['pooler.dense.bias', 'pooler.dense.weight']\n",
      "You should probably TRAIN this model on a down-stream task to be able to use it for predictions and inference.\n",
      "Warning: Empty candidate sentence detected; setting raw BERTscores to 0.\n",
      "Warning: Empty candidate sentence detected; setting raw BERTscores to 0.\n",
      "Warning: Empty candidate sentence detected; setting raw BERTscores to 0.\n",
      "Warning: Empty candidate sentence detected; setting raw BERTscores to 0.\n",
      "Warning: Empty candidate sentence detected; setting raw BERTscores to 0.\n",
      "Warning: Empty candidate sentence detected; setting raw BERTscores to 0.\n",
      "Warning: Empty candidate sentence detected; setting raw BERTscores to 0.\n",
      "Warning: Empty candidate sentence detected; setting raw BERTscores to 0.\n",
      "Warning: Empty candidate sentence detected; setting raw BERTscores to 0.\n",
      "Warning: Empty candidate sentence detected; setting raw BERTscores to 0.\n",
      "Warning: Empty candidate sentence detected; setting raw BERTscores to 0.\n",
      "Warning: Empty candidate sentence detected; setting raw BERTscores to 0.\n",
      "Warning: Empty candidate sentence detected; setting raw BERTscores to 0.\n",
      "Warning: Empty candidate sentence detected; setting raw BERTscores to 0.\n",
      "Warning: Empty candidate sentence detected; setting raw BERTscores to 0.\n",
      "Warning: Empty candidate sentence detected; setting raw BERTscores to 0.\n",
      "Warning: Empty candidate sentence detected; setting raw BERTscores to 0.\n",
      "Warning: Empty candidate sentence detected; setting raw BERTscores to 0.\n",
      "Warning: Empty candidate sentence detected; setting raw BERTscores to 0.\n",
      "Warning: Empty candidate sentence detected; setting raw BERTscores to 0.\n",
      "Warning: Empty candidate sentence detected; setting raw BERTscores to 0.\n",
      "Warning: Empty candidate sentence detected; setting raw BERTscores to 0.\n",
      "Warning: Empty candidate sentence detected; setting raw BERTscores to 0.\n",
      "Warning: Empty candidate sentence detected; setting raw BERTscores to 0.\n",
      "Warning: Empty candidate sentence detected; setting raw BERTscores to 0.\n",
      "Warning: Empty candidate sentence detected; setting raw BERTscores to 0.\n",
      "Warning: Empty candidate sentence detected; setting raw BERTscores to 0.\n",
      "Warning: Empty candidate sentence detected; setting raw BERTscores to 0.\n",
      "Warning: Empty candidate sentence detected; setting raw BERTscores to 0.\n",
      "Warning: Empty candidate sentence detected; setting raw BERTscores to 0.\n",
      "Warning: Empty candidate sentence detected; setting raw BERTscores to 0.\n",
      "Warning: Empty candidate sentence detected; setting raw BERTscores to 0.\n",
      "Warning: Empty candidate sentence detected; setting raw BERTscores to 0.\n",
      "Warning: Empty candidate sentence detected; setting raw BERTscores to 0.\n",
      "Warning: Empty candidate sentence detected; setting raw BERTscores to 0.\n",
      "Warning: Empty candidate sentence detected; setting raw BERTscores to 0.\n",
      "Warning: Empty candidate sentence detected; setting raw BERTscores to 0.\n",
      "Warning: Empty candidate sentence detected; setting raw BERTscores to 0.\n",
      "Warning: Empty candidate sentence detected; setting raw BERTscores to 0.\n",
      "Warning: Empty candidate sentence detected; setting raw BERTscores to 0.\n",
      "Warning: Empty candidate sentence detected; setting raw BERTscores to 0.\n",
      "Warning: Empty candidate sentence detected; setting raw BERTscores to 0.\n",
      "Warning: Empty candidate sentence detected; setting raw BERTscores to 0.\n",
      "Warning: Empty candidate sentence detected; setting raw BERTscores to 0.\n",
      "Warning: Empty candidate sentence detected; setting raw BERTscores to 0.\n",
      "Warning: Empty candidate sentence detected; setting raw BERTscores to 0.\n",
      "Warning: Empty candidate sentence detected; setting raw BERTscores to 0.\n",
      "Warning: Empty candidate sentence detected; setting raw BERTscores to 0.\n",
      "Warning: Empty candidate sentence detected; setting raw BERTscores to 0.\n",
      "Warning: Empty candidate sentence detected; setting raw BERTscores to 0.\n",
      "Warning: Empty candidate sentence detected; setting raw BERTscores to 0.\n",
      "Warning: Empty candidate sentence detected; setting raw BERTscores to 0.\n",
      "Warning: Empty candidate sentence detected; setting raw BERTscores to 0.\n",
      "Warning: Empty candidate sentence detected; setting raw BERTscores to 0.\n",
      "Warning: Empty candidate sentence detected; setting raw BERTscores to 0.\n",
      "Warning: Empty candidate sentence detected; setting raw BERTscores to 0.\n",
      "Warning: Empty candidate sentence detected; setting raw BERTscores to 0.\n",
      "Warning: Empty candidate sentence detected; setting raw BERTscores to 0.\n",
      "Warning: Empty candidate sentence detected; setting raw BERTscores to 0.\n",
      "Warning: Empty candidate sentence detected; setting raw BERTscores to 0.\n",
      "Warning: Empty candidate sentence detected; setting raw BERTscores to 0.\n",
      "Warning: Empty candidate sentence detected; setting raw BERTscores to 0.\n",
      "Warning: Empty candidate sentence detected; setting raw BERTscores to 0.\n",
      "Warning: Empty candidate sentence detected; setting raw BERTscores to 0.\n",
      "Warning: Empty candidate sentence detected; setting raw BERTscores to 0.\n",
      "Warning: Empty candidate sentence detected; setting raw BERTscores to 0.\n",
      "Warning: Empty candidate sentence detected; setting raw BERTscores to 0.\n",
      "Warning: Empty candidate sentence detected; setting raw BERTscores to 0.\n",
      "Warning: Empty candidate sentence detected; setting raw BERTscores to 0.\n",
      "Warning: Empty candidate sentence detected; setting raw BERTscores to 0.\n",
      "Warning: Empty candidate sentence detected; setting raw BERTscores to 0.\n",
      "Warning: Empty candidate sentence detected; setting raw BERTscores to 0.\n",
      "Warning: Empty candidate sentence detected; setting raw BERTscores to 0.\n",
      "Warning: Empty candidate sentence detected; setting raw BERTscores to 0.\n",
      "Warning: Empty candidate sentence detected; setting raw BERTscores to 0.\n",
      "Warning: Empty candidate sentence detected; setting raw BERTscores to 0.\n",
      "Warning: Empty candidate sentence detected; setting raw BERTscores to 0.\n",
      "Warning: Empty candidate sentence detected; setting raw BERTscores to 0.\n",
      "Warning: Empty candidate sentence detected; setting raw BERTscores to 0.\n",
      "Warning: Empty candidate sentence detected; setting raw BERTscores to 0.\n",
      "Warning: Empty candidate sentence detected; setting raw BERTscores to 0.\n",
      "Warning: Empty candidate sentence detected; setting raw BERTscores to 0.\n",
      "Warning: Empty candidate sentence detected; setting raw BERTscores to 0.\n",
      "Warning: Empty candidate sentence detected; setting raw BERTscores to 0.\n",
      "Warning: Empty candidate sentence detected; setting raw BERTscores to 0.\n",
      "Warning: Empty candidate sentence detected; setting raw BERTscores to 0.\n",
      "Warning: Empty candidate sentence detected; setting raw BERTscores to 0.\n",
      "Warning: Empty candidate sentence detected; setting raw BERTscores to 0.\n",
      "Warning: Empty candidate sentence detected; setting raw BERTscores to 0.\n",
      "Warning: Empty candidate sentence detected; setting raw BERTscores to 0.\n",
      "Warning: Empty candidate sentence detected; setting raw BERTscores to 0.\n",
      "Warning: Empty candidate sentence detected; setting raw BERTscores to 0.\n",
      "Warning: Empty candidate sentence detected; setting raw BERTscores to 0.\n",
      "Warning: Empty candidate sentence detected; setting raw BERTscores to 0.\n",
      "Warning: Empty candidate sentence detected; setting raw BERTscores to 0.\n",
      "Warning: Empty candidate sentence detected; setting raw BERTscores to 0.\n",
      "Warning: Empty candidate sentence detected; setting raw BERTscores to 0.\n",
      "Warning: Empty candidate sentence detected; setting raw BERTscores to 0.\n",
      "Warning: Empty candidate sentence detected; setting raw BERTscores to 0.\n",
      "Warning: Empty candidate sentence detected; setting raw BERTscores to 0.\n",
      "Warning: Empty candidate sentence detected; setting raw BERTscores to 0.\n",
      "Warning: Empty candidate sentence detected; setting raw BERTscores to 0.\n",
      "Warning: Empty candidate sentence detected; setting raw BERTscores to 0.\n",
      "Warning: Empty candidate sentence detected; setting raw BERTscores to 0.\n",
      "Warning: Empty candidate sentence detected; setting raw BERTscores to 0.\n",
      "Warning: Empty candidate sentence detected; setting raw BERTscores to 0.\n",
      "Warning: Empty candidate sentence detected; setting raw BERTscores to 0.\n",
      "Warning: Empty candidate sentence detected; setting raw BERTscores to 0.\n",
      "Warning: Empty candidate sentence detected; setting raw BERTscores to 0.\n",
      "Warning: Empty candidate sentence detected; setting raw BERTscores to 0.\n",
      "Warning: Empty candidate sentence detected; setting raw BERTscores to 0.\n",
      "Warning: Empty candidate sentence detected; setting raw BERTscores to 0.\n",
      "Warning: Empty candidate sentence detected; setting raw BERTscores to 0.\n",
      "Warning: Empty candidate sentence detected; setting raw BERTscores to 0.\n",
      "Warning: Empty candidate sentence detected; setting raw BERTscores to 0.\n",
      "Warning: Empty candidate sentence detected; setting raw BERTscores to 0.\n",
      "Warning: Empty candidate sentence detected; setting raw BERTscores to 0.\n",
      "Warning: Empty candidate sentence detected; setting raw BERTscores to 0.\n",
      "Warning: Empty candidate sentence detected; setting raw BERTscores to 0.\n",
      "Warning: Empty candidate sentence detected; setting raw BERTscores to 0.\n",
      "Warning: Empty candidate sentence detected; setting raw BERTscores to 0.\n",
      "Warning: Empty candidate sentence detected; setting raw BERTscores to 0.\n",
      "Warning: Empty candidate sentence detected; setting raw BERTscores to 0.\n",
      "Warning: Empty candidate sentence detected; setting raw BERTscores to 0.\n",
      "Warning: Empty candidate sentence detected; setting raw BERTscores to 0.\n",
      "Warning: Empty candidate sentence detected; setting raw BERTscores to 0.\n",
      "Warning: Empty candidate sentence detected; setting raw BERTscores to 0.\n",
      "Warning: Empty candidate sentence detected; setting raw BERTscores to 0.\n",
      "Warning: Empty candidate sentence detected; setting raw BERTscores to 0.\n",
      "Warning: Empty candidate sentence detected; setting raw BERTscores to 0.\n"
     ]
    },
    {
     "data": {
      "application/vnd.jupyter.widget-view+json": {
       "model_id": "fd3bbeb6577b454aaa0794bc3efaaf33",
       "version_major": 2,
       "version_minor": 0
      },
      "text/plain": [
       "Prompt=one:   0%|          | 0/396 [00:00<?, ?it/s]"
      ]
     },
     "metadata": {},
     "output_type": "display_data"
    },
    {
     "name": "stderr",
     "output_type": "stream",
     "text": [
      "Warning: Empty candidate sentence detected; setting raw BERTscores to 0.\n",
      "Warning: Empty candidate sentence detected; setting raw BERTscores to 0.\n",
      "Warning: Empty candidate sentence detected; setting raw BERTscores to 0.\n",
      "Warning: Empty candidate sentence detected; setting raw BERTscores to 0.\n",
      "Warning: Empty candidate sentence detected; setting raw BERTscores to 0.\n",
      "Warning: Empty candidate sentence detected; setting raw BERTscores to 0.\n",
      "Warning: Empty candidate sentence detected; setting raw BERTscores to 0.\n",
      "Warning: Empty candidate sentence detected; setting raw BERTscores to 0.\n",
      "Warning: Empty candidate sentence detected; setting raw BERTscores to 0.\n",
      "Warning: Empty candidate sentence detected; setting raw BERTscores to 0.\n",
      "Warning: Empty candidate sentence detected; setting raw BERTscores to 0.\n",
      "Warning: Empty candidate sentence detected; setting raw BERTscores to 0.\n",
      "Warning: Empty candidate sentence detected; setting raw BERTscores to 0.\n",
      "Warning: Empty candidate sentence detected; setting raw BERTscores to 0.\n",
      "Warning: Empty candidate sentence detected; setting raw BERTscores to 0.\n",
      "Warning: Empty candidate sentence detected; setting raw BERTscores to 0.\n",
      "Warning: Empty candidate sentence detected; setting raw BERTscores to 0.\n",
      "Warning: Empty candidate sentence detected; setting raw BERTscores to 0.\n",
      "Warning: Empty candidate sentence detected; setting raw BERTscores to 0.\n",
      "Warning: Empty candidate sentence detected; setting raw BERTscores to 0.\n",
      "Warning: Empty candidate sentence detected; setting raw BERTscores to 0.\n",
      "Warning: Empty candidate sentence detected; setting raw BERTscores to 0.\n",
      "Warning: Empty candidate sentence detected; setting raw BERTscores to 0.\n",
      "Warning: Empty candidate sentence detected; setting raw BERTscores to 0.\n",
      "Warning: Empty candidate sentence detected; setting raw BERTscores to 0.\n",
      "Warning: Empty candidate sentence detected; setting raw BERTscores to 0.\n",
      "Warning: Empty candidate sentence detected; setting raw BERTscores to 0.\n",
      "Warning: Empty candidate sentence detected; setting raw BERTscores to 0.\n",
      "Warning: Empty candidate sentence detected; setting raw BERTscores to 0.\n",
      "Warning: Empty candidate sentence detected; setting raw BERTscores to 0.\n",
      "Warning: Empty candidate sentence detected; setting raw BERTscores to 0.\n",
      "Warning: Empty candidate sentence detected; setting raw BERTscores to 0.\n",
      "Warning: Empty candidate sentence detected; setting raw BERTscores to 0.\n",
      "Warning: Empty candidate sentence detected; setting raw BERTscores to 0.\n",
      "Warning: Empty candidate sentence detected; setting raw BERTscores to 0.\n",
      "Warning: Empty candidate sentence detected; setting raw BERTscores to 0.\n",
      "Warning: Empty candidate sentence detected; setting raw BERTscores to 0.\n",
      "Warning: Empty candidate sentence detected; setting raw BERTscores to 0.\n",
      "Warning: Empty candidate sentence detected; setting raw BERTscores to 0.\n",
      "Warning: Empty candidate sentence detected; setting raw BERTscores to 0.\n",
      "Warning: Empty candidate sentence detected; setting raw BERTscores to 0.\n",
      "Warning: Empty candidate sentence detected; setting raw BERTscores to 0.\n",
      "Warning: Empty candidate sentence detected; setting raw BERTscores to 0.\n",
      "Warning: Empty candidate sentence detected; setting raw BERTscores to 0.\n",
      "Warning: Empty candidate sentence detected; setting raw BERTscores to 0.\n",
      "Warning: Empty candidate sentence detected; setting raw BERTscores to 0.\n",
      "Warning: Empty candidate sentence detected; setting raw BERTscores to 0.\n",
      "Warning: Empty candidate sentence detected; setting raw BERTscores to 0.\n",
      "Warning: Empty candidate sentence detected; setting raw BERTscores to 0.\n",
      "Warning: Empty candidate sentence detected; setting raw BERTscores to 0.\n",
      "Warning: Empty candidate sentence detected; setting raw BERTscores to 0.\n",
      "Warning: Empty candidate sentence detected; setting raw BERTscores to 0.\n",
      "Warning: Empty candidate sentence detected; setting raw BERTscores to 0.\n",
      "Warning: Empty candidate sentence detected; setting raw BERTscores to 0.\n",
      "Warning: Empty candidate sentence detected; setting raw BERTscores to 0.\n",
      "Warning: Empty candidate sentence detected; setting raw BERTscores to 0.\n",
      "Warning: Empty candidate sentence detected; setting raw BERTscores to 0.\n",
      "Warning: Empty candidate sentence detected; setting raw BERTscores to 0.\n",
      "Warning: Empty candidate sentence detected; setting raw BERTscores to 0.\n",
      "Warning: Empty candidate sentence detected; setting raw BERTscores to 0.\n",
      "Warning: Empty candidate sentence detected; setting raw BERTscores to 0.\n"
     ]
    },
    {
     "data": {
      "application/vnd.jupyter.widget-view+json": {
       "model_id": "f2b65d83cee9423d8ae241cc7df575be",
       "version_major": 2,
       "version_minor": 0
      },
      "text/plain": [
       "Prompt=few:   0%|          | 0/396 [00:00<?, ?it/s]"
      ]
     },
     "metadata": {},
     "output_type": "display_data"
    },
    {
     "name": "stderr",
     "output_type": "stream",
     "text": [
      "Warning: Empty candidate sentence detected; setting raw BERTscores to 0.\n",
      "Warning: Empty candidate sentence detected; setting raw BERTscores to 0.\n",
      "Warning: Empty candidate sentence detected; setting raw BERTscores to 0.\n",
      "Warning: Empty candidate sentence detected; setting raw BERTscores to 0.\n",
      "Warning: Empty candidate sentence detected; setting raw BERTscores to 0.\n",
      "Warning: Empty candidate sentence detected; setting raw BERTscores to 0.\n",
      "Warning: Empty candidate sentence detected; setting raw BERTscores to 0.\n",
      "Warning: Empty candidate sentence detected; setting raw BERTscores to 0.\n",
      "Warning: Empty candidate sentence detected; setting raw BERTscores to 0.\n",
      "Warning: Empty candidate sentence detected; setting raw BERTscores to 0.\n",
      "Warning: Empty candidate sentence detected; setting raw BERTscores to 0.\n",
      "Warning: Empty candidate sentence detected; setting raw BERTscores to 0.\n",
      "Warning: Empty candidate sentence detected; setting raw BERTscores to 0.\n",
      "Warning: Empty candidate sentence detected; setting raw BERTscores to 0.\n",
      "Warning: Empty candidate sentence detected; setting raw BERTscores to 0.\n",
      "Warning: Empty candidate sentence detected; setting raw BERTscores to 0.\n",
      "Warning: Empty candidate sentence detected; setting raw BERTscores to 0.\n",
      "Warning: Empty candidate sentence detected; setting raw BERTscores to 0.\n",
      "Warning: Empty candidate sentence detected; setting raw BERTscores to 0.\n",
      "Warning: Empty candidate sentence detected; setting raw BERTscores to 0.\n",
      "Warning: Empty candidate sentence detected; setting raw BERTscores to 0.\n",
      "Warning: Empty candidate sentence detected; setting raw BERTscores to 0.\n",
      "Warning: Empty candidate sentence detected; setting raw BERTscores to 0.\n",
      "Warning: Empty candidate sentence detected; setting raw BERTscores to 0.\n",
      "Warning: Empty candidate sentence detected; setting raw BERTscores to 0.\n",
      "Warning: Empty candidate sentence detected; setting raw BERTscores to 0.\n",
      "Warning: Empty candidate sentence detected; setting raw BERTscores to 0.\n",
      "Warning: Empty candidate sentence detected; setting raw BERTscores to 0.\n",
      "Warning: Empty candidate sentence detected; setting raw BERTscores to 0.\n",
      "Warning: Empty candidate sentence detected; setting raw BERTscores to 0.\n",
      "Warning: Empty candidate sentence detected; setting raw BERTscores to 0.\n"
     ]
    },
    {
     "name": "stdout",
     "output_type": "stream",
     "text": [
      "\n",
      "=== ZERO-SHOT ===\n",
      "greedy  R1 0.1123  R2 0.0447  RL 0.1043  B-F1 0.8322\n",
      "beam   R1 0.0487  R2 0.0162  RL 0.0460  B-F1 0.8222\n",
      "topk   R1 0.1609  R2 0.0564  RL 0.1505  B-F1 0.8421\n",
      "topp   R1 0.1688  R2 0.0640  RL 0.1581  B-F1 0.8425\n",
      "\n",
      "=== ONE-SHOT ===\n",
      "greedy  R1 0.3663  R2 0.1839  RL 0.3498  B-F1 0.8832\n",
      "beam   R1 0.3640  R2 0.1942  RL 0.3477  B-F1 0.8816\n",
      "topk   R1 0.2780  R2 0.1204  RL 0.2649  B-F1 0.8713\n",
      "topp   R1 0.3030  R2 0.1369  RL 0.2886  B-F1 0.8755\n",
      "\n",
      "=== FEW-SHOT ===\n",
      "greedy  R1 0.3656  R2 0.1876  RL 0.3517  B-F1 0.8836\n",
      "beam   R1 0.3738  R2 0.2029  RL 0.3596  B-F1 0.8839\n",
      "topk   R1 0.2828  R2 0.1257  RL 0.2712  B-F1 0.8723\n",
      "topp   R1 0.3065  R2 0.1443  RL 0.2938  B-F1 0.8757\n",
      "\n",
      "=== 3 EXAMPLES ===\n",
      "\n",
      "📄 Article: Read this article if you're interested in learning how to create an APA style title page via Google Drive. This article assumes that you already have a Google account .\n",
      "✅ Gold   : Create an APA Style Title Page via Google Drive\n",
      "🤖 zer | greedy: Open Google Drive. Click the \"Title Page\" tab.\n",
      "🤖 zer | beam : Learn how to create an APA style title page.\n",
      "🤖 zer | topk : Open Google Docs ... Click on the \"Contribute\n",
      "🤖 zer | topp : Open the Google Drive app. Click the \"Tip\" tab\n",
      "🤖 one | greedy: Open Google Drive. Click the \"Add to Cart\" button. Click\n",
      "🤖 one | beam : Read this article if you're interested in learning how to create\n",
      "🤖 one | topk : Open Google Drive . Click the \"Upload\" icon. Click\n",
      "🤖 one | topp : Open Google Drive. Click on the  button next to \"Add\n",
      "🤖 few | greedy: Open Google Drive. Click on the \"Title Page\" tab\n",
      "🤖 few | beam : Learn how to create a title page on Google Drive.\n",
      "🤖 few | topk : Read this article to learn how to create a Title Page in Google\n",
      "🤖 few | topp : Read the tutorial on Google Drive.\n",
      "\n",
      "📄 Article: Back in the days before digital photography was the norm, there were generally 2 methods of processing film: prints, and slides. Prints were developed on a sheet of photo paper, while slides were small, transparent …\n",
      "✅ Gold   : Digitally Scan 35mm Slides\n",
      "🤖 zer | greedy: You are an expert WikiHow editor.\n",
      "🤖 zer | beam : You are an expert WikiHow editor.\n",
      "🤖 zer | topk : What are your most popular videos?\n",
      "🤖 zer | topp : A step up from prints.\n",
      "🤖 one | greedy: Learn how to make slides\n",
      "🤖 one | beam : Know the difference between prints and slides\n",
      "🤖 one | topk : Learn how to use the print method\n",
      "🤖 one | topp : Take a look at the difference between prints and slides.\n",
      "🤖 few | greedy: Learn how to make slides\n",
      "🤖 few | beam : Know the difference between prints and slides.\n",
      "🤖 few | topk : Video: How to make slide slides.\n",
      "🤖 few | topp : Identify what films were printed and viewed.\n",
      "\n",
      "📄 Article: An ally is someone who stands up for any person who is being oppressed. For example, your friend who recently came out as gay might be facing criticism from their conservative parents.\n",
      "✅ Gold   : Be an Ally\n",
      "🤖 zer | greedy: Identify an ally.\n",
      "🤖 zer | beam : You are an expert WikiHow editor.\n",
      "🤖 zer | topk : Make an ally.\n",
      "🤖 zer | topp : Identify a ally if you are an editor.\n",
      "🤖 one | greedy: Identify an ally.\n",
      "🤖 one | beam : Identify an ally.\n",
      "🤖 one | topk : Know what an ally is.\n",
      "🤖 one | topp : Talk to a ally about a problem.\n",
      "🤖 few | greedy: Talk to an ally.\n",
      "🤖 few | beam : Talk to an ally of the LGBT community.\n",
      "🤖 few | topk : Achieve a healthy relationship with your ally.\n",
      "🤖 few | topp : Get the facts about a gay person.\n"
     ]
    }
   ],
   "source": [
    "SEED          = 42\n",
    "MODEL_NAME    = \"google/flan-t5-base\"\n",
    "MAX_SRC_TOK   = 256\n",
    "MAX_NEW_TOK   = 15\n",
    "BATCH_GEN     = 32\n",
    "NUM_BEAMS     = 4\n",
    "K_SHOTS       = 3\n",
    "DECODE_MODES  = [\"greedy\", \"beam\", \"topk\", \"topp\"]\n",
    "PROMPT_MODES  = [\"zero\", \"one\", \"few\"]\n",
    "\n",
    "random.seed(SEED); torch.manual_seed(SEED)\n",
    "\n",
    "df   = Dataset.from_csv(\"/content/drive/MyDrive/wikihow_clean.csv\").to_pandas()\n",
    "data = Dataset.from_pandas(df).shuffle(seed=SEED)\n",
    "\n",
    "tmp        = data.train_test_split(test_size=0.20, seed=SEED)\n",
    "train_full = tmp[\"train\"]\n",
    "temp       = tmp[\"test\"].train_test_split(test_size=0.50, seed=SEED)\n",
    "val, test  = temp[\"train\"], temp[\"test\"]\n",
    "\n",
    "# EMBEDDER + pre-calcolo shots\n",
    "embedder  = SentenceTransformer(\"all-MiniLM-L6-v2\", device=\"cuda\")\n",
    "train_emb = embedder.encode(train_full[\"text\"], convert_to_tensor=True)\n",
    "\n",
    "def topk_shots(article, k=K_SHOTS):\n",
    "    hits = util.semantic_search(embedder.encode(article, convert_to_tensor=True),\n",
    "                                train_emb, top_k=k)[0]\n",
    "    return [(train_full[i[\"corpus_id\"]][\"text\"],\n",
    "             train_full[i[\"corpus_id\"]][\"summary\"]) for i in hits]\n",
    "\n",
    "print(\"⏳ Pre-computing few-shot cache …\")\n",
    "shots_cache = [topk_shots(t) for t in tqdm(test[\"text\"])]\n",
    "\n",
    "# PROMPT builder\n",
    "SYS = \"You are an expert WikiHow editor.\"\n",
    "      \"Summarize this article:\"\n",
    "\n",
    "def build_prompt(article, shots=None):\n",
    "    blocks = [SYS]\n",
    "    if shots:\n",
    "        for a, h in shots:\n",
    "            blocks.append(f\"Article: {a}\\nHeadline: {h}\")\n",
    "    blocks.append(f\"Article: {article}\\nHeadline:\")\n",
    "    return \"\\n\\n\".join(blocks)\n",
    "\n",
    "# MODEL\n",
    "tok = AutoTokenizer.from_pretrained(MODEL_NAME)\n",
    "model = AutoModelForSeq2SeqLM.from_pretrained(\n",
    "            MODEL_NAME, torch_dtype=torch.float16, device_map={\"\":0})\n",
    "model.eval()\n",
    "\n",
    "# GENERATION\n",
    "def generate(idx_list, d_mode, p_mode):\n",
    "    prompts = []\n",
    "    for idx in idx_list:\n",
    "        art = test[idx][\"text\"]\n",
    "        if p_mode == \"zero\":\n",
    "            shots = None\n",
    "        elif p_mode == \"one\":\n",
    "            shots = shots_cache[idx][:1]\n",
    "        else:  # few\n",
    "            shots = shots_cache[idx]\n",
    "        prompts.append(build_prompt(art, shots))\n",
    "\n",
    "    enc = tok(prompts, truncation=True, max_length=MAX_SRC_TOK,\n",
    "              padding=True, return_tensors=\"pt\").to(\"cuda\")\n",
    "\n",
    "    gen_kwargs = dict(max_length=MAX_NEW_TOK)\n",
    "    match d_mode:\n",
    "        case \"greedy\": gen_kwargs |= {\"num_beams\":1, \"do_sample\":False}\n",
    "        case \"beam\"  : gen_kwargs |= {\"num_beams\":NUM_BEAMS, \"do_sample\":False}\n",
    "        case \"topk\"  : gen_kwargs |= {\"do_sample\":True, \"top_k\":50,\n",
    "                                      \"temperature\":0.7, \"num_beams\":1}\n",
    "        case \"topp\"  : gen_kwargs |= {\"do_sample\":True, \"top_p\":0.9,\n",
    "                                      \"temperature\":0.7, \"num_beams\":1}\n",
    "\n",
    "    with torch.no_grad():\n",
    "        outs = model.generate(**enc, **gen_kwargs)\n",
    "\n",
    "    return [tok.decode(o, skip_special_tokens=True).strip() for o in outs]\n",
    "\n",
    "# METRICS\n",
    "rouge  = evaluate.load(\"rouge\")\n",
    "berts  = evaluate.load(\"bertscore\")\n",
    "results = {}\n",
    "\n",
    "for p_mode in PROMPT_MODES:\n",
    "    preds = {m: [] for m in DECODE_MODES}\n",
    "    refs  = []\n",
    "    for i in tqdm(range(0, len(test), BATCH_GEN), desc=f\"Prompt={p_mode}\"):\n",
    "        idx_batch = list(range(i, min(i+BATCH_GEN, len(test))))\n",
    "        refs.extend(test[idx_batch][\"summary\"])\n",
    "        for d_mode in DECODE_MODES:\n",
    "            preds[d_mode].extend(generate(idx_batch, d_mode, p_mode))\n",
    "\n",
    "\n",
    "    res = {}\n",
    "    for d_mode in DECODE_MODES:\n",
    "        r = rouge.compute(predictions=preds[d_mode], references=refs)\n",
    "        b = berts.compute(predictions=preds[d_mode], references=refs, lang=\"en\")\n",
    "        res[d_mode] = {\n",
    "            \"R1\": r[\"rouge1\"], \"R2\": r[\"rouge2\"],\n",
    "            \"RL\": r[\"rougeL\"], \"BF1\": sum(b[\"f1\"])/len(b[\"f1\"])\n",
    "        }\n",
    "    results[p_mode] = res\n",
    "\n",
    "for p_mode, score in results.items():\n",
    "    print(f\"\\n=== {p_mode.upper()}-SHOT ===\")\n",
    "    for d_mode, v in score.items():\n",
    "        print(f\"{d_mode:<5}  R1 {v['R1']:.4f}  R2 {v['R2']:.4f}  \"\n",
    "              f\"RL {v['RL']:.4f}  B-F1 {v['BF1']:.4f}\")\n",
    "\n",
    "print(\"\\n=== 3 EXAMPLES ===\")\n",
    "for idx in random.sample(range(len(test)), 3):\n",
    "    art  = textwrap.shorten(test[idx][\"text\"], width=220, placeholder=\" …\")\n",
    "    gold = test[idx][\"summary\"]\n",
    "    print(f\"\\n📄 Article: {art}\\n✅ Gold   : {gold}\")\n",
    "    for p_mode in PROMPT_MODES:\n",
    "        for d_mode in DECODE_MODES:\n",
    "            pred = generate([idx], d_mode, p_mode)[0]\n",
    "            print(f\"🤖 {p_mode[:3]} | {d_mode:<5}: {pred}\")\n"
   ]
  }
 ],
 "metadata": {
  "accelerator": "GPU",
  "colab": {
   "collapsed_sections": [
    "t8v5PRpVW3yY",
    "fPdFUK4EW7WO"
   ],
   "gpuType": "T4",
   "provenance": []
  },
  "kernelspec": {
   "display_name": "Python 3",
   "name": "python3"
  },
  "language_info": {
   "name": "python"
  }
 },
 "nbformat": 4,
 "nbformat_minor": 0
}
